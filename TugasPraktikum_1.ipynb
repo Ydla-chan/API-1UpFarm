{
  "nbformat": 4,
  "nbformat_minor": 0,
  "metadata": {
    "colab": {
      "provenance": [],
      "authorship_tag": "ABX9TyMiA9jixiDxfk/k40o/nAbT",
      "include_colab_link": true
    },
    "kernelspec": {
      "name": "python3",
      "display_name": "Python 3"
    },
    "language_info": {
      "name": "python"
    }
  },
  "cells": [
    {
      "cell_type": "markdown",
      "metadata": {
        "id": "view-in-github",
        "colab_type": "text"
      },
      "source": [
        "<a href=\"https://colab.research.google.com/github/Ydla-chan/API-1UpFarm/blob/main/TugasPraktikum_1.ipynb\" target=\"_parent\"><img src=\"https://colab.research.google.com/assets/colab-badge.svg\" alt=\"Open In Colab\"/></a>"
      ]
    },
    {
      "cell_type": "markdown",
      "source": [
        "Eksperimen 1: AI yang Memprediksi Angka"
      ],
      "metadata": {
        "id": "HS3xMPvEoZ1l"
      }
    },
    {
      "cell_type": "code",
      "execution_count": null,
      "metadata": {
        "colab": {
          "base_uri": "https://localhost:8080/"
        },
        "id": "AMCCsjxpn2sJ",
        "outputId": "0b1f9abe-b6e7-4a9a-a6b2-e8b397acb7c5"
      },
      "outputs": [
        {
          "output_type": "stream",
          "name": "stdout",
          "text": [
            "Tebak angka antara 1-10: 2\n",
            "AI: Salah! Angka yang benar adalah 9.\n"
          ]
        }
      ],
      "source": [
        "import random\n",
        "\n",
        "def simple_ai_guess():\n",
        "  number = random.randint(1, 10)\n",
        "  guess = int(input(\"Tebak angka antara 1-10: \"))\n",
        "  if guess == number:\n",
        "    print(\"AI: Benar! Kamu menebak angka dengan tepat.\")\n",
        "  else:\n",
        "    print(f\"AI: Salah! Angka yang benar adalah {number}.\")\n",
        "\n",
        "simple_ai_guess()"
      ]
    },
    {
      "cell_type": "code",
      "source": [
        "from textblob import TextBlob\n",
        "\n",
        "text = input(\"Masukkan kalimat: \")\n",
        "sentiment = TextBlob(text).sentiment.polarity\n",
        "\n",
        "if sentiment > 0:\n",
        "    print(\"AI: Kalimat ini bernada positif.\")\n",
        "elif sentiment < 0:\n",
        "    print(\"AI: Kalimat ini bernada negatif.\")\n",
        "else:\n",
        "    print(\"AI: Kalimat ini netral.\")\n"
      ],
      "metadata": {
        "id": "90_T2LqvofXt",
        "colab": {
          "base_uri": "https://localhost:8080/"
        },
        "outputId": "aae4a93f-5df7-484a-d884-423d83df3159"
      },
      "execution_count": 1,
      "outputs": [
        {
          "output_type": "stream",
          "name": "stdout",
          "text": [
            "Masukkan kalimat: Fish\n",
            "AI: Kalimat ini netral.\n"
          ]
        }
      ]
    }
  ]
}